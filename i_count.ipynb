{
 "cells": [
  {
   "cell_type": "markdown",
   "metadata": {
    "collapsed": true
   },
   "source": [
    "# Counting the incidence of the word \"I\" in English corpora vs. that of the word \"私\" and variants in Japanese corpora"
   ]
  },
  {
   "cell_type": "markdown",
   "metadata": {},
   "source": [
    "## First we need to obtain the relevant data\n",
    "### We will define a generic function that opens the relevant files and prepares them for analysis."
   ]
  },
  {
   "cell_type": "code",
   "execution_count": 4,
   "metadata": {},
   "outputs": [],
   "source": [
    "def prepare(path):\n",
    "    with open(path, encoding=\"utf-8\") as f:\n",
    "        out = f.readlines()\n",
    "    for l in out:\n",
    "        l.rstrip(\"\\n\")\n",
    "\n",
    "    return out\n"
   ]
  },
  {
   "cell_type": "markdown",
   "metadata": {},
   "source": [
    "### Then we can define generic counting functions for each language:"
   ]
  },
  {
   "cell_type": "code",
   "execution_count": 2,
   "metadata": {},
   "outputs": [],
   "source": [
    "# This function counts the occurrence of the word \"I\" in a sentence in English\n",
    "def i_count_en(sentence):\n",
    "    count = 0\n",
    "    for i, c in enumerate(sentence):\n",
    "        # Checking whether the character could be the right one\n",
    "        if c in (\"i\", \"I\"):\n",
    "            # Checking whether the character is the first or last in the sentence. The first clause checks if the \n",
    "            # current character is the first, and if so, it only adds to count if the next character is not an\n",
    "            # alphabetic character. The second one checks if the character is the last, and if so, it only adds to\n",
    "            # count if the previous character is not an alphabetic character. The last one checks if the character is\n",
    "            # neither the first or last character of a sentence, and if so, it only adds to count if neither of the\n",
    "            # surrounding characters are alphabetic.\n",
    "            if (i == 0 and not sentence[i+1].isalpha()) or \\\n",
    "                    (i == len(sentence) - 1 and not sentence[i-1].isalpha()) or \\\n",
    "                    (i not in (0, len(sentence) - 1) and not (sentence[i-1].isalpha() or sentence[i+1].isalpha())):\n",
    "                count += 1\n",
    "\n",
    "    return count\n",
    "\n",
    "\n",
    "# This function counts the occurrence of the word \"私\" and variants in a sentence in Japanese\n",
    "def i_count_ja(sentence):\n",
    "    count = 0\n",
    "    # This does not account for compounds so maybe it should be adapted\n",
    "    for w in [\"私\", \"僕\", \"俺\", \"我\", \"吾\", \"儂\", \"わたし\", \"わたくし\", \"われ\", \"わが\", \"おれ\", \"ぼく\", \"わし\", \"あたし\", \"あたくし\"]:\n",
    "        count += sentence.count(w)\n",
    "\n",
    "    return count\n"
   ]
  },
  {
   "cell_type": "markdown",
   "metadata": {},
   "source": [
    "### From JESC:"
   ]
  },
  {
   "cell_type": "code",
   "execution_count": 5,
   "metadata": {},
   "outputs": [
    {
     "name": "stdout",
     "output_type": "stream",
     "text": [
      "JESC English count: 756475\nJESC Japanese count: 330176\n"
     ]
    }
   ],
   "source": [
    "jesc_en = prepare(\"corpora/jesc/raw/en\")\n",
    "jesc_ja = prepare(\"corpora/jesc/raw/ja\")\n",
    "\n",
    "jesc_i_count_en = 0\n",
    "jesc_i_count_ja = 0\n",
    "\n",
    "for s in jesc_en:\n",
    "    jesc_i_count_en += i_count_en(s)\n",
    "\n",
    "for s in jesc_ja:\n",
    "    jesc_i_count_ja += i_count_ja(s)\n",
    "\n",
    "print(\"JESC English count:\", jesc_i_count_en)\n",
    "print(\"JESC Japanese count:\", jesc_i_count_ja)\n"
   ]
  },
  {
   "cell_type": "markdown",
   "metadata": {},
   "source": [
    "### From OpenSubs:"
   ]
  },
  {
   "cell_type": "code",
   "execution_count": 6,
   "metadata": {},
   "outputs": [
    {
     "name": "stdout",
     "output_type": "stream",
     "text": [
      "OpenSubs English count: 528277\nOpenSubs Japanese count: 209823\n"
     ]
    }
   ],
   "source": [
    "os_en = prepare(\"corpora/opensubs/txt/raw/en\")\n",
    "os_ja = prepare(\"corpora/opensubs/txt/raw/ja\")\n",
    "\n",
    "os_i_count_en = 0\n",
    "os_i_count_ja = 0\n",
    "\n",
    "for s in os_en:\n",
    "    os_i_count_en += i_count_en(s)\n",
    "\n",
    "for s in os_ja:\n",
    "    os_i_count_ja += i_count_ja(s)\n",
    "\n",
    "print(\"OpenSubs English count:\", os_i_count_en)\n",
    "print(\"OpenSubs Japanese count:\", os_i_count_ja)\n"
   ]
  },
  {
   "cell_type": "markdown",
   "metadata": {},
   "source": [
    "## Graphs\n",
    "### From JESC:"
   ]
  },
  {
   "cell_type": "code",
   "execution_count": 33,
   "metadata": {
    "collapsed": false
   },
   "outputs": [
    {
     "name": "stderr",
     "output_type": "stream",
     "text": [
      "C:\\Users\\pedro\\Google Drive\\phmw500\\Tokyo Tech\\Research\\Repos\\shizen\\venv\\lib\\site-packages\\matplotlib\\font_manager.py:1328: UserWarning: findfont: Font family ['Meiryo'] not found. Falling back to DejaVu Sans\n  (prop.get_family(), self.defaultFamily[fontext]))\n"
     ]
    },
    {
     "data": {
      "image/png": "[encoded data removed]",
      "text/plain": [
       "<Figure size 432x288 with 1 Axes>"
      ]
     },
     "metadata": {},
     "output_type": "display_data"
    }
   ],
   "source": [
    "%matplotlib inline\n",
    "\n",
    "import matplotlib.pyplot as plt\n",
    "from matplotlib.font_manager import FontProperties\n",
    "import numpy as np\n",
    "\n",
    "# TODO: fix font issues\n",
    "font = FontProperties(\"Meiryo\")\n",
    "# TODO: customise graph further \n",
    "\n",
    "jesc_bar_objects = [\"English\", \"Japanese\"]\n",
    "jesc_y_pos = np.arange(len(jesc_bar_objects))\n",
    "jesc_bar_h = (jesc_i_count_en, jesc_i_count_ja)\n",
    "\n",
    "jesc_bar = plt.bar(jesc_y_pos, jesc_bar_h, align=\"center\")\n",
    "plt.xticks(jesc_y_pos, jesc_bar_objects, fontproperties=font)\n",
    "plt.ylabel(\"Count\", fontproperties=font)\n",
    "plt.title(\"Count comparison of the word \\\"I\\\" in English and the word \\\"私\\\" and variants in Japanese from JESC\",\n",
    "          fontproperties=font)\n",
    "\n",
    "plt.show()"
   ]
  },
  {
   "cell_type": "markdown",
   "metadata": {},
   "source": [
    "### From OpenSubs:"
   ]
  },
  {
   "cell_type": "code",
   "execution_count": 34,
   "metadata": {},
   "outputs": [
    {
     "name": "stderr",
     "output_type": "stream",
     "text": [
      "C:\\Users\\pedro\\Google Drive\\phmw500\\Tokyo Tech\\Research\\Repos\\shizen\\venv\\lib\\site-packages\\matplotlib\\font_manager.py:1328: UserWarning: findfont: Font family ['Meiryo'] not found. Falling back to DejaVu Sans\n  (prop.get_family(), self.defaultFamily[fontext]))\n"
     ]
    },
    {
     "data": {
      "image/png": "[encoded data removed]",
      "text/plain": [
       "<Figure size 432x288 with 1 Axes>"
      ]
     },
     "metadata": {},
     "output_type": "display_data"
    }
   ],
   "source": [
    "%matplotlib inline\n",
    "\n",
    "import matplotlib.pyplot as plt\n",
    "from matplotlib.font_manager import FontProperties\n",
    "import numpy as np\n",
    "\n",
    "# TODO: fix font issues\n",
    "font = FontProperties(\"Meiryo\")\n",
    "# TODO: customise graph further \n",
    "\n",
    "os_bar_objects = [\"English\", \"Japanese\"]\n",
    "os_y_pos = np.arange(len(os_bar_objects))\n",
    "os_bar_h = (os_i_count_en, os_i_count_ja)\n",
    "\n",
    "os_bar = plt.bar(os_y_pos, os_bar_h, align=\"center\")\n",
    "plt.xticks(os_y_pos, os_bar_objects, fontproperties=font)\n",
    "plt.ylabel(\"Count\", fontproperties=font)\n",
    "plt.title(\"Count comparison of the word \\\"I\\\" in English and the word \\\"私\\\" and variants in Japanese from OpenSubs\",\n",
    "          fontproperties=font)\n",
    "\n",
    "plt.show()"
   ]
  },
  {
   "cell_type": "markdown",
   "metadata": {},
   "source": [
    "### Joining both:"
   ]
  },
  {
   "cell_type": "code",
   "execution_count": 35,
   "metadata": {},
   "outputs": [
    {
     "name": "stderr",
     "output_type": "stream",
     "text": [
      "C:\\Users\\pedro\\Google Drive\\phmw500\\Tokyo Tech\\Research\\Repos\\shizen\\venv\\lib\\site-packages\\matplotlib\\font_manager.py:1328: UserWarning: findfont: Font family ['Meiryo'] not found. Falling back to DejaVu Sans\n  (prop.get_family(), self.defaultFamily[fontext]))\n"
     ]
    },
    {
     "data": {
      "image/png": "[encoded data removed]",
      "text/plain": [
       "<Figure size 432x288 with 1 Axes>"
      ]
     },
     "metadata": {},
     "output_type": "display_data"
    }
   ],
   "source": [
    "%matplotlib inline\n",
    "\n",
    "import matplotlib.pyplot as plt\n",
    "from matplotlib.font_manager import FontProperties\n",
    "import numpy as np\n",
    "\n",
    "# TODO: fix font issues\n",
    "font = FontProperties(\"Meiryo\")\n",
    "# TODO: customise graph further \n",
    "\n",
    "joint_bar_objects = [\"English\", \"Japanese\"]\n",
    "joint_y_pos = np.arange(len(joint_bar_objects))\n",
    "joint_bar_h = (jesc_i_count_en+os_i_count_en, jesc_i_count_ja+os_i_count_ja)\n",
    "\n",
    "joint_bar = plt.bar(joint_y_pos, joint_bar_h, align=\"center\")\n",
    "plt.xticks(joint_y_pos, joint_bar_objects, fontproperties=font)\n",
    "plt.ylabel(\"Count\", fontproperties=font)\n",
    "plt.title(\"Count comparison of the word \\\"I\\\" in English and the word \\\"私\\\" and variants in Japanese from JESC and \"\n",
    "          \"OpenSubs\", \n",
    "          fontproperties=font)\n",
    "\n",
    "plt.show()\n"
   ]
  },
  {
   "cell_type": "code",
   "execution_count": null,
   "metadata": {},
   "outputs": [],
   "source": []
  }
 ],
 "metadata": {
  "kernelspec": {
   "display_name": "Python 2",
   "language": "python",
   "name": "python2"
  },
  "language_info": {
   "codemirror_mode": {
    "name": "ipython",
    "version": 2
   },
   "file_extension": ".py",
   "mimetype": "text/x-python",
   "name": "python",
   "nbconvert_exporter": "python",
   "pygments_lexer": "ipython2",
   "version": "2.7.6"
  }
 },
 "nbformat": 4,
 "nbformat_minor": 0
}
